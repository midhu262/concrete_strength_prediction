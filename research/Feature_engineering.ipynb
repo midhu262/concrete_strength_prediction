{
 "cells": [
  {
   "cell_type": "code",
   "execution_count": null,
   "metadata": {},
   "outputs": [],
   "source": [
    "no imputation required\n",
    "feature binning to be done for age feature\n",
    "data transformation is to be done (both)\n",
    "new features are to be added"
   ]
  },
  {
   "cell_type": "markdown",
   "metadata": {},
   "source": []
  }
 ],
 "metadata": {
  "language_info": {
   "name": "python"
  }
 },
 "nbformat": 4,
 "nbformat_minor": 2
}
